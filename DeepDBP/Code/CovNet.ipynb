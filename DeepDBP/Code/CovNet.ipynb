{
 "cells": [
  {
   "cell_type": "code",
   "execution_count": 2,
   "metadata": {
    "scrolled": true
   },
   "outputs": [
    {
     "name": "stderr",
     "output_type": "stream",
     "text": [
      "Using Theano backend.\n",
      "Using cuDNN version 6021 on context None\n",
      "Mapped name None to device cuda: GeForce GTX 1050 Ti (0000:01:00.0)\n"
     ]
    }
   ],
   "source": [
    "import pandas as pd\n",
    "from keras.preprocessing import sequence\n",
    "from keras.models import *\n",
    "from keras.layers import *\n",
    "from keras.utils import np_utils\n",
    "from keras.optimizers import Adam\n",
    "from sklearn.model_selection import train_test_split"
   ]
  },
  {
   "cell_type": "markdown",
   "metadata": {},
   "source": [
    "# Import Data"
   ]
  },
  {
   "cell_type": "code",
   "execution_count": 41,
   "metadata": {
    "scrolled": true
   },
   "outputs": [],
   "source": [
    "data = pd.read_csv('train_parsed_reduced.csv', header=None)\n",
    "data = data.sample(frac=1)"
   ]
  },
  {
   "cell_type": "code",
   "execution_count": 42,
   "metadata": {
    "scrolled": true
   },
   "outputs": [],
   "source": [
    "def read_data(dataset):\n",
    "    data = pd.read_csv(dataset, header=None)\n",
    "    #data.drop(data.columns[[0]], axis=1, inplace=True)\n",
    "    data = data.sample(frac=1)\n",
    "    data = data.values\n",
    "    n = data.shape[1] - 1\n",
    "    x = data[:,0:n]\n",
    "    y = data[:,n]\n",
    "    y_categorical = np_utils.to_categorical(y)\n",
    "    return (x, y, y_categorical)"
   ]
  },
  {
   "cell_type": "code",
   "execution_count": 43,
   "metadata": {
    "scrolled": true
   },
   "outputs": [
    {
     "name": "stdout",
     "output_type": "stream",
     "text": [
      "(1035L, 1323L)\n"
     ]
    }
   ],
   "source": [
    "x_train, y_train, y_categorical_train = read_data('train_parsed_reduced.csv')\n",
    "print(x_train.shape)\n",
    "x_test, y_test, y_categorical_test = read_data('test_parsed.csv')"
   ]
  },
  {
   "cell_type": "code",
   "execution_count": 59,
   "metadata": {
    "scrolled": true
   },
   "outputs": [],
   "source": [
    "#x_train, x_test, y_train,  y_test = train_test_split(x, y)\n",
    "#x_train, x_test, y_categorical_train, y_categorical_test = train_test_split(x, y_categorical)"
   ]
  },
  {
   "cell_type": "code",
   "execution_count": 6,
   "metadata": {},
   "outputs": [
    {
     "name": "stdout",
     "output_type": "stream",
     "text": [
      "[ 13.  18.   7. ...,   0.   0.   0.]\n",
      "[ 0.  1.]\n"
     ]
    }
   ],
   "source": [
    "print(x_train[0])\n",
    "print(y_categorical_train[0])"
   ]
  },
  {
   "cell_type": "code",
   "execution_count": 7,
   "metadata": {},
   "outputs": [],
   "source": [
    "n = x_train.shape[1]"
   ]
  },
  {
   "cell_type": "code",
   "execution_count": 8,
   "metadata": {},
   "outputs": [
    {
     "ename": "NameError",
     "evalue": "name 'values' is not defined",
     "output_type": "error",
     "traceback": [
      "\u001b[1;31m---------------------------------------------------------------------------\u001b[0m",
      "\u001b[1;31mNameError\u001b[0m                                 Traceback (most recent call last)",
      "\u001b[1;32m<ipython-input-8-073af4c02ab4>\u001b[0m in \u001b[0;36m<module>\u001b[1;34m()\u001b[0m\n\u001b[1;32m----> 1\u001b[1;33m \u001b[0mlen\u001b[0m\u001b[1;33m(\u001b[0m\u001b[0mset\u001b[0m\u001b[1;33m(\u001b[0m\u001b[0mvalues\u001b[0m\u001b[1;33m.\u001b[0m\u001b[0mflatten\u001b[0m\u001b[1;33m(\u001b[0m\u001b[1;33m)\u001b[0m\u001b[1;33m)\u001b[0m\u001b[1;33m)\u001b[0m\u001b[1;33m\u001b[0m\u001b[0m\n\u001b[0m",
      "\u001b[1;31mNameError\u001b[0m: name 'values' is not defined"
     ]
    }
   ],
   "source": [
    "len(set(values.flatten()))"
   ]
  },
  {
   "cell_type": "markdown",
   "metadata": {},
   "source": [
    "# CovNet"
   ]
  },
  {
   "cell_type": "code",
   "execution_count": 8,
   "metadata": {},
   "outputs": [],
   "source": [
    "maxlen = n\n",
    "x_train = sequence.pad_sequences(x_train, maxlen=maxlen)\n",
    "x_test = sequence.pad_sequences(x_test, maxlen=maxlen)\n",
    "#print(x_train.shape)"
   ]
  },
  {
   "cell_type": "code",
   "execution_count": 9,
   "metadata": {},
   "outputs": [],
   "source": [
    "\n",
    "model = Sequential()\n",
    "def DenseBlock(num):\n",
    "    def f(model):\n",
    "        model = Dropout(0.5)(model)\n",
    "        model = Dense(num)(model)\n",
    "        model = BatchNormalization()(model)\n",
    "        model = Activation('relu')(model)\n",
    "        return model\n",
    "    return f\n",
    "def InputBlock(num, shape):\n",
    "    def f(model):\n",
    "        model = Dense(num, input_shape=shape)(model)\n",
    "        return model\n",
    "    return f\n",
    "def OutputBlock(shape):\n",
    "    def f(model):\n",
    "        model = Dense(shape)(model)\n",
    "        model = Activation('softmax')(model)\n",
    "        return model\n",
    "    return f\n",
    "def ConvBlock(kernel_size, filters):\n",
    "    def f(model):\n",
    "        x = Convolution2D(filters, 1, kernel_size, border_mode='same', activation='relu')(model)\n",
    "        model = MaxPooling2D((1, kernel_size))(model)\n",
    "        model = Flatten()(model)\n",
    "        return model\n",
    "    return f\n",
    "\n",
    "window_size = 31\n",
    "Y = 150\n",
    "maxlen = 800\n",
    "\n",
    "inp = Input(shape=(maxlen,))\n",
    "model = Embedding(n, Y)(inp)\n",
    "model = Reshape((1, maxlen, Y))(model)\n",
    "#ca = ConvBlock(3, 10)(model)\n",
    "#cb = ConvBlock(5, 10)(model)\n",
    "#model = merge([ca, cb], mode='concat')\n",
    "model = ConvBlock(1, n)(model) \n",
    "model = DenseBlock(16)(model)\n",
    "model = DenseBlock(16)(model)\n",
    "model = OutputBlock(2)(model)\n",
    "model = Model(inp, model)"
   ]
  },
  {
   "cell_type": "code",
   "execution_count": 9,
   "metadata": {},
   "outputs": [],
   "source": [
    "#Model 2\n",
    "model = Sequential()\n",
    "def DenseBlock(num):\n",
    "    def f(model):\n",
    "        model = Dropout(0.5)(model)\n",
    "        model = Dense(num)(model)\n",
    "        model = BatchNormalization()(model)\n",
    "        model = Activation('relu')(model)\n",
    "        return model\n",
    "    return f\n",
    "def InputBlock(num, shape):\n",
    "    def f(model):\n",
    "        model = Dense(num, input_shape=shape)(model)\n",
    "        return model\n",
    "    return f\n",
    "def OutputBlock(shape):\n",
    "    def f(model):\n",
    "        model = Dense(shape)(model)\n",
    "        model = Activation('softmax')(model)\n",
    "        return model\n",
    "    return f\n",
    "def ConvBlock(kernel_size, filters):\n",
    "    def f(model):\n",
    "        x = Convolution2D(filters, 1, kernel_size, border_mode='same', activation='relu')(model)\n",
    "        model = MaxPooling2D((1, kernel_size))(model)\n",
    "        model = Flatten()(model)\n",
    "        return model\n",
    "    return f\n",
    "\n",
    "inp = Input(shape=(maxlen,))\n",
    "model = Embedding(n, 16)(inp)\n",
    "model = Flatten()(model)\n",
    "model = DenseBlock(16)(model)\n",
    "model = DenseBlock(16)(model)\n",
    "model = OutputBlock(2)(model)\n",
    "model = Model(inp, model)"
   ]
  },
  {
   "cell_type": "code",
   "execution_count": 12,
   "metadata": {
    "scrolled": true
   },
   "outputs": [
    {
     "name": "stdout",
     "output_type": "stream",
     "text": [
      "____________________________________________________________________________________________________\n",
      "Layer (type)                     Output Shape          Param #     Connected to                     \n",
      "====================================================================================================\n",
      "embedding_2 (Embedding)          (None, 1323L, 8)      240         embedding_input_1[0][0]          \n",
      "____________________________________________________________________________________________________\n",
      "reshape_2 (Reshape)              (None, 1, 1323L, 8)   0           embedding_2[0][0]                \n",
      "____________________________________________________________________________________________________\n",
      "convolution2d_2 (Convolution2D)  (None, 3, 1325L, 128) 9344        reshape_2[0][0]                  \n",
      "____________________________________________________________________________________________________\n",
      "activation_4 (Activation)        (None, 3, 1325L, 128) 0           convolution2d_2[0][0]            \n",
      "____________________________________________________________________________________________________\n",
      "convolution2d_3 (Convolution2D)  (None, 2, 1324L, 64)  32832       activation_4[0][0]               \n",
      "____________________________________________________________________________________________________\n",
      "activation_5 (Activation)        (None, 2, 1324L, 64)  0           convolution2d_3[0][0]            \n",
      "____________________________________________________________________________________________________\n",
      "maxpooling2d_2 (MaxPooling2D)    (None, 1, 662L, 64)   0           activation_5[0][0]               \n",
      "____________________________________________________________________________________________________\n",
      "dropout_3 (Dropout)              (None, 1, 662L, 64)   0           maxpooling2d_2[0][0]             \n",
      "____________________________________________________________________________________________________\n",
      "flatten_2 (Flatten)              (None, 42368)         0           dropout_3[0][0]                  \n",
      "____________________________________________________________________________________________________\n",
      "dense_4 (Dense)                  (None, 2)             84738       flatten_2[0][0]                  \n",
      "====================================================================================================\n",
      "Total params: 127,154\n",
      "Trainable params: 127,154\n",
      "Non-trainable params: 0\n",
      "____________________________________________________________________________________________________\n"
     ]
    }
   ],
   "source": [
    "# Model 3\n",
    "max_features = n\n",
    "maxlen = 100\n",
    "vocab = 30\n",
    "length = n\n",
    "embedding_vector = 8\n",
    "\n",
    "model = Sequential()\n",
    "model.add(Embedding(vocab, embedding_vector, input_length=length)) # embed into dense 3D float tensor (samples, maxlen, 256)\n",
    "model.add(Reshape((1, length, embedding_vector))) # reshape into 4D tensor (samples, 1, maxlen, 256)\n",
    "# VGG-like convolution stack\n",
    "model.add(Convolution2D(128, 3, 3, border_mode='full')) \n",
    "model.add(Activation('relu'))\n",
    "#model.add(MaxPooling2D(pool_size=(3, 3)))\n",
    "model.add(Convolution2D(64, 2, 2))\n",
    "model.add(Activation('relu'))\n",
    "model.add(MaxPooling2D(pool_size=(2, 2)))\n",
    "model.add(Dropout(0.25))\n",
    "model.add(Flatten())\n",
    "model.add(Dense(2))\n",
    "model.summary()"
   ]
  },
  {
   "cell_type": "code",
   "execution_count": 33,
   "metadata": {
    "scrolled": true
   },
   "outputs": [
    {
     "name": "stdout",
     "output_type": "stream",
     "text": [
      "____________________________________________________________________________________________________\n",
      "Layer (type)                     Output Shape          Param #     Connected to                     \n",
      "====================================================================================================\n",
      "embedding_6 (Embedding)          (None, 1323L, 8)      400         embedding_input_5[0][0]          \n",
      "____________________________________________________________________________________________________\n",
      "reshape_6 (Reshape)              (None, 1, 1323L, 8)   0           embedding_6[0][0]                \n",
      "____________________________________________________________________________________________________\n",
      "convolution2d_7 (Convolution2D)  (None, 1, 1323L, 128) 31872       reshape_6[0][0]                  \n",
      "____________________________________________________________________________________________________\n",
      "activation_18 (Activation)       (None, 1, 1323L, 128) 0           convolution2d_7[0][0]            \n",
      "____________________________________________________________________________________________________\n",
      "maxpooling2d_6 (MaxPooling2D)    (None, 1, 42L, 128)   0           activation_18[0][0]              \n",
      "____________________________________________________________________________________________________\n",
      "flatten_6 (Flatten)              (None, 5376)          0           maxpooling2d_6[0][0]             \n",
      "____________________________________________________________________________________________________\n",
      "dropout_13 (Dropout)             (None, 5376)          0           flatten_6[0][0]                  \n",
      "____________________________________________________________________________________________________\n",
      "dense_14 (Dense)                 (None, 32)            172064      dropout_13[0][0]                 \n",
      "____________________________________________________________________________________________________\n",
      "activation_19 (Activation)       (None, 32)            0           dense_14[0][0]                   \n",
      "____________________________________________________________________________________________________\n",
      "dropout_14 (Dropout)             (None, 32)            0           activation_19[0][0]              \n",
      "____________________________________________________________________________________________________\n",
      "dense_15 (Dense)                 (None, 16)            528         dropout_14[0][0]                 \n",
      "____________________________________________________________________________________________________\n",
      "activation_20 (Activation)       (None, 16)            0           dense_15[0][0]                   \n",
      "____________________________________________________________________________________________________\n",
      "dropout_15 (Dropout)             (None, 16)            0           activation_20[0][0]              \n",
      "____________________________________________________________________________________________________\n",
      "dense_16 (Dense)                 (None, 2)             34          dropout_15[0][0]                 \n",
      "____________________________________________________________________________________________________\n",
      "activation_21 (Activation)       (None, 2)             0           dense_16[0][0]                   \n",
      "====================================================================================================\n",
      "Total params: 204,898\n",
      "Trainable params: 204,898\n",
      "Non-trainable params: 0\n",
      "____________________________________________________________________________________________________\n"
     ]
    }
   ],
   "source": [
    "vocab = 50\n",
    "length = n\n",
    "embedding_vector = 8\n",
    "n_timesteps = 20\n",
    "\n",
    "model = Sequential()\n",
    "model.add(Embedding(input_dim=vocab, output_dim=embedding_vector, input_length=length))\n",
    "model.add(Reshape((1, length, embedding_vector)))\n",
    "model.add(Convolution2D(128, 1, 31, border_mode='same'))\n",
    "model.add(Activation('relu'))\n",
    "model.add(MaxPooling2D(pool_size=(1, 31)))\n",
    "model.add(Flatten())\n",
    "#model.add(Reshape((5376, 1)))\n",
    "#model.add(Bidirectional(LSTM(20, return_sequences=True), input_shape=(n_timesteps,)))\n",
    "#model.add(TimeDistributed(Dense(1, activation='sigmoid')))\n",
    "#model.add(GlobalMaxPool1D())\n",
    "#model.add(Flatten())\n",
    "model.add(Dropout(0.3))\n",
    "model.add(Dense(32))\n",
    "model.add(Activation('relu'))\n",
    "model.add(Dropout(0.3))\n",
    "model.add(Dense(16))\n",
    "model.add(Activation('relu'))\n",
    "model.add(Dropout(0.3))\n",
    "model.add(Dense(2))\n",
    "model.add(Activation('softmax'))\n",
    "model.summary()\n"
   ]
  },
  {
   "cell_type": "code",
   "execution_count": 34,
   "metadata": {
    "scrolled": true
   },
   "outputs": [],
   "source": [
    "op = Adam(lr=0.00001)\n",
    "model.compile(optimizer=op, loss='categorical_crossentropy', metrics=['accuracy'])"
   ]
  },
  {
   "cell_type": "code",
   "execution_count": 35,
   "metadata": {},
   "outputs": [],
   "source": [
    "def learn(lr, epochs):\n",
    "    op.lr = lr\n",
    "    model.fit(x=x_train, y=y_categorical_train, nb_epoch=epochs, batch_size=64, validation_data=(x_test, y_categorical_test), verbose=1)"
   ]
  },
  {
   "cell_type": "code",
   "execution_count": 70,
   "metadata": {
    "scrolled": true
   },
   "outputs": [
    {
     "name": "stdout",
     "output_type": "stream",
     "text": [
      "Train on 1035 samples, validate on 186 samples\n",
      "Epoch 1/15\n",
      "1035/1035 [==============================] - 0s - loss: 0.0457 - acc: 0.9845 - val_loss: 1.0050 - val_acc: 0.7312\n",
      "Epoch 2/15\n",
      "1035/1035 [==============================] - 0s - loss: 0.0449 - acc: 0.9874 - val_loss: 0.9607 - val_acc: 0.7419\n",
      "Epoch 3/15\n",
      "1035/1035 [==============================] - 0s - loss: 0.1068 - acc: 0.9652 - val_loss: 0.9297 - val_acc: 0.7366\n",
      "Epoch 4/15\n",
      "1035/1035 [==============================] - 0s - loss: 0.0374 - acc: 0.9903 - val_loss: 1.0854 - val_acc: 0.6989\n",
      "Epoch 5/15\n",
      "1035/1035 [==============================] - 0s - loss: 0.0330 - acc: 0.9913 - val_loss: 1.1505 - val_acc: 0.7473\n",
      "Epoch 6/15\n",
      "1035/1035 [==============================] - 0s - loss: 0.0177 - acc: 0.9971 - val_loss: 1.1870 - val_acc: 0.7419\n",
      "Epoch 7/15\n",
      "1035/1035 [==============================] - 0s - loss: 0.0166 - acc: 0.9961 - val_loss: 1.2886 - val_acc: 0.7366\n",
      "Epoch 8/15\n",
      "1035/1035 [==============================] - 0s - loss: 0.0250 - acc: 0.9942 - val_loss: 1.6232 - val_acc: 0.6882\n",
      "Epoch 9/15\n",
      "1035/1035 [==============================] - 0s - loss: 0.0184 - acc: 0.9952 - val_loss: 1.0986 - val_acc: 0.7473\n",
      "Epoch 10/15\n",
      "1035/1035 [==============================] - 0s - loss: 0.0117 - acc: 0.9961 - val_loss: 1.0863 - val_acc: 0.7419\n",
      "Epoch 11/15\n",
      "1035/1035 [==============================] - 0s - loss: 0.0109 - acc: 0.9971 - val_loss: 1.4732 - val_acc: 0.7258\n",
      "Epoch 12/15\n",
      "1035/1035 [==============================] - 0s - loss: 0.0139 - acc: 0.9971 - val_loss: 1.5627 - val_acc: 0.7366\n",
      "Epoch 13/15\n",
      "1035/1035 [==============================] - 0s - loss: 0.0179 - acc: 0.9971 - val_loss: 1.1479 - val_acc: 0.7527\n",
      "Epoch 14/15\n",
      "1035/1035 [==============================] - 0s - loss: 0.0166 - acc: 0.9961 - val_loss: 1.2537 - val_acc: 0.7473\n",
      "Epoch 15/15\n",
      "1035/1035 [==============================] - 0s - loss: 0.0132 - acc: 0.9981 - val_loss: 1.4472 - val_acc: 0.7204\n"
     ]
    }
   ],
   "source": [
    "learn(0.0015, 15)"
   ]
  },
  {
   "cell_type": "code",
   "execution_count": 54,
   "metadata": {},
   "outputs": [
    {
     "name": "stdout",
     "output_type": "stream",
     "text": [
      "186/186 [==============================] - ETA: 0s E - 0s     \n"
     ]
    },
    {
     "data": {
      "text/plain": [
       "[0.59394702585537962, 0.70967741935483875]"
      ]
     },
     "execution_count": 54,
     "metadata": {},
     "output_type": "execute_result"
    }
   ],
   "source": [
    "model.evaluate(x=x_train, y=y_categorical_train, batch_size=1)"
   ]
  },
  {
   "cell_type": "code",
   "execution_count": 194,
   "metadata": {
    "scrolled": false
   },
   "outputs": [],
   "source": [
    "y_pred = np.argmax(model.predict(x=x_train, batch_size=1), axis=1)\n",
    "y_true = y_categorical_train[:, -1] "
   ]
  },
  {
   "cell_type": "code",
   "execution_count": 195,
   "metadata": {},
   "outputs": [
    {
     "data": {
      "text/plain": [
       "array([[545,   3],\n",
       "       [  2, 485]], dtype=int64)"
      ]
     },
     "execution_count": 195,
     "metadata": {},
     "output_type": "execute_result"
    }
   ],
   "source": [
    "from sklearn.metrics import confusion_matrix\n",
    "confusion_matrix(y_true, y_pred)"
   ]
  },
  {
   "cell_type": "code",
   "execution_count": 66,
   "metadata": {},
   "outputs": [
    {
     "ename": "NameError",
     "evalue": "name 'theano' is not defined",
     "output_type": "error",
     "traceback": [
      "\u001b[1;31m---------------------------------------------------------------------------\u001b[0m",
      "\u001b[1;31mNameError\u001b[0m                                 Traceback (most recent call last)",
      "\u001b[1;32m<ipython-input-66-c2c2131b4b05>\u001b[0m in \u001b[0;36m<module>\u001b[1;34m()\u001b[0m\n\u001b[0;32m      3\u001b[0m \u001b[0mnb_features\u001b[0m \u001b[1;33m=\u001b[0m \u001b[0mx_train\u001b[0m\u001b[1;33m.\u001b[0m\u001b[0mshape\u001b[0m\u001b[1;33m[\u001b[0m\u001b[1;36m1\u001b[0m\u001b[1;33m]\u001b[0m\u001b[1;33m\u001b[0m\u001b[0m\n\u001b[0;32m      4\u001b[0m \u001b[0mnewshape\u001b[0m \u001b[1;33m=\u001b[0m \u001b[1;33m(\u001b[0m\u001b[0mnb_samples\u001b[0m\u001b[1;33m,\u001b[0m \u001b[1;36m1\u001b[0m\u001b[1;33m,\u001b[0m \u001b[0mnb_features\u001b[0m\u001b[1;33m,\u001b[0m \u001b[1;36m1\u001b[0m\u001b[1;33m)\u001b[0m\u001b[1;33m\u001b[0m\u001b[0m\n\u001b[1;32m----> 5\u001b[1;33m \u001b[0mx_train\u001b[0m \u001b[1;33m=\u001b[0m \u001b[0mnp\u001b[0m\u001b[1;33m.\u001b[0m\u001b[0mreshape\u001b[0m\u001b[1;33m(\u001b[0m\u001b[0mx_train\u001b[0m\u001b[1;33m,\u001b[0m \u001b[0mnewshape\u001b[0m\u001b[1;33m)\u001b[0m\u001b[1;33m.\u001b[0m\u001b[0mastype\u001b[0m\u001b[1;33m(\u001b[0m\u001b[0mtheano\u001b[0m\u001b[1;33m.\u001b[0m\u001b[0mconfig\u001b[0m\u001b[1;33m.\u001b[0m\u001b[0mfloatX\u001b[0m\u001b[1;33m)\u001b[0m\u001b[1;33m\u001b[0m\u001b[0m\n\u001b[0m\u001b[0;32m      6\u001b[0m \u001b[1;33m\u001b[0m\u001b[0m\n\u001b[0;32m      7\u001b[0m \u001b[1;31m# We set some hyperparameters\u001b[0m\u001b[1;33m\u001b[0m\u001b[1;33m\u001b[0m\u001b[0m\n",
      "\u001b[1;31mNameError\u001b[0m: name 'theano' is not defined"
     ]
    }
   ],
   "source": [
    "# Convolution layers expect a 4-D input so we reshape our 2-D input\n",
    "nb_samples = x_train.shape[0]\n",
    "nb_features = x_train.shape[1]\n",
    "newshape = (nb_samples, 1, nb_features, 1)\n",
    "x_train = np.reshape(x_train, newshape).astype(theano.config.floatX)\n",
    "\n",
    "# We set some hyperparameters\n",
    "BATCH_SIZE = 16\n",
    "FIELD_SIZE = 5 * 300\n",
    "STRIDE = 300\n",
    "N_FILTERS = 200\n",
    "\n",
    "# We fit the model\n",
    "model = Sequential()\n",
    "model.add(Convolution2D(nb_filter=N_FILTERS, stack_size=1, nb_row=FIELD_SIZE, \n",
    "                        nb_col=1, subsample=(STRIDE, 1)))\n",
    "model.add(Activation('relu'))\n",
    "model.add(MaxPooling2D(poolsize=(((nb_features - FIELD_SIZE) / STRIDE) + 1, 1)))\n",
    "model.add(Dropout(0.5))\n",
    "model.add(Flatten())\n",
    "model.add(Dense(N_FILTERS, nb_classes))\n",
    "model.add(Activation('softmax'))\n",
    "\n",
    "model.compile(loss='categorical_crossentropy', optimizer='adadelta')\n",
    "print 'fitting model'\n",
    "model.fit(x_train, y_categorical_train, nb_epoch=10, batch_size=BATCH_SIZE, verbose=1, \n",
    "          show_accuracy=True, validation_split=0.1)"
   ]
  },
  {
   "cell_type": "markdown",
   "metadata": {},
   "source": [
    "# Good Models"
   ]
  },
  {
   "cell_type": "code",
   "execution_count": 10,
   "metadata": {
    "scrolled": true
   },
   "outputs": [
    {
     "name": "stdout",
     "output_type": "stream",
     "text": [
      "____________________________________________________________________________________________________\n",
      "Layer (type)                     Output Shape          Param #     Connected to                     \n",
      "====================================================================================================\n",
      "embedding_1 (Embedding)          (None, 1323L, 12)     360         embedding_input_1[0][0]          \n",
      "____________________________________________________________________________________________________\n",
      "reshape_1 (Reshape)              (None, 1, 1323L, 12)  0           embedding_1[0][0]                \n",
      "____________________________________________________________________________________________________\n",
      "convolution2d_1 (Convolution2D)  (None, 1, 1323L, 254) 15494       reshape_1[0][0]                  \n",
      "____________________________________________________________________________________________________\n",
      "activation_1 (Activation)        (None, 1, 1323L, 254) 0           convolution2d_1[0][0]            \n",
      "____________________________________________________________________________________________________\n",
      "maxpooling2d_1 (MaxPooling2D)    (None, 1, 264L, 254)  0           activation_1[0][0]               \n",
      "____________________________________________________________________________________________________\n",
      "flatten_1 (Flatten)              (None, 67056)         0           maxpooling2d_1[0][0]             \n",
      "____________________________________________________________________________________________________\n",
      "dense_1 (Dense)                  (None, 16)            1072912     flatten_1[0][0]                  \n",
      "____________________________________________________________________________________________________\n",
      "activation_2 (Activation)        (None, 16)            0           dense_1[0][0]                    \n",
      "____________________________________________________________________________________________________\n",
      "dropout_1 (Dropout)              (None, 16)            0           activation_2[0][0]               \n",
      "____________________________________________________________________________________________________\n",
      "dense_2 (Dense)                  (None, 8)             136         dropout_1[0][0]                  \n",
      "____________________________________________________________________________________________________\n",
      "activation_3 (Activation)        (None, 8)             0           dense_2[0][0]                    \n",
      "____________________________________________________________________________________________________\n",
      "dense_3 (Dense)                  (None, 2)             18          activation_3[0][0]               \n",
      "____________________________________________________________________________________________________\n",
      "activation_4 (Activation)        (None, 2)             0           dense_3[0][0]                    \n",
      "====================================================================================================\n",
      "Total params: 1,088,920\n",
      "Trainable params: 1,088,920\n",
      "Non-trainable params: 0\n",
      "____________________________________________________________________________________________________\n",
      "Train on 1035 samples, validate on 186 samples\n",
      "Epoch 1/5\n",
      "1035/1035 [==============================] - 3s - loss: 0.6930 - acc: 0.5092 - val_loss: 0.6929 - val_acc: 0.5000\n",
      "Epoch 2/5\n",
      "1035/1035 [==============================] - 1s - loss: 0.6873 - acc: 0.5498 - val_loss: 0.6834 - val_acc: 0.50000.54 - ETA: 0s - loss: 0.6854 - acc: 0.55\n",
      "Epoch 3/5\n",
      "1035/1035 [==============================] - 1s - loss: 0.6774 - acc: 0.5768 - val_loss: 0.6695 - val_acc: 0.5591\n",
      "Epoch 4/5\n",
      "1035/1035 [==============================] - 1s - loss: 0.6710 - acc: 0.5932 - val_loss: 0.6661 - val_acc: 0.60220.5 - ETA: 0s - loss: 0.6719 - acc: 0.5 - ETA: 0s - loss: 0.6706 - acc: 0.595\n",
      "Epoch 5/5\n",
      "1035/1035 [==============================] - 1s - loss: 0.6623 - acc: 0.6019 - val_loss: 0.6634 - val_acc: 0.5968\n",
      "Train on 1035 samples, validate on 186 samples\n",
      "Epoch 1/5\n",
      "1035/1035 [==============================] - 1s - loss: 0.6610 - acc: 0.5981 - val_loss: 0.6616 - val_acc: 0.5968\n",
      "Epoch 2/5\n",
      "1035/1035 [==============================] - 1s - loss: 0.6581 - acc: 0.5884 - val_loss: 0.6534 - val_acc: 0.5914\n",
      "Epoch 3/5\n",
      "1035/1035 [==============================] - 1s - loss: 0.6634 - acc: 0.6000 - val_loss: 0.6605 - val_acc: 0.5860: 0s - loss: 0.6641 - acc: 0.5\n",
      "Epoch 4/5\n",
      "1035/1035 [==============================] - 1s - loss: 0.6491 - acc: 0.6222 - val_loss: 0.6439 - val_acc: 0.5806ETA: 0s - loss: 0.6463 - acc: 0\n",
      "Epoch 5/5\n",
      "1035/1035 [==============================] - 1s - loss: 0.6357 - acc: 0.6357 - val_loss: 0.6416 - val_acc: 0.6290\n",
      "Train on 1035 samples, validate on 186 samples\n",
      "Epoch 1/5\n",
      "1035/1035 [==============================] - 1s - loss: 0.6338 - acc: 0.6261 - val_loss: 0.6397 - val_acc: 0.6452- ETA: 0s - loss: 0.6341 - acc: 0.62\n",
      "Epoch 2/5\n",
      "1035/1035 [==============================] - 1s - loss: 0.6171 - acc: 0.6396 - val_loss: 0.6304 - val_acc: 0.6398\n",
      "Epoch 3/5\n",
      "1035/1035 [==============================] - 1s - loss: 0.5905 - acc: 0.6589 - val_loss: 0.6115 - val_acc: 0.68820.630 - ETA: 1s - loss: 0.6185 - acc: 0.6 - ETA: 0s - loss: 0.5994 - acc: 0.669 - ETA: 0s - loss: 0.5918 - ac\n",
      "Epoch 4/5\n",
      "1035/1035 [==============================] - 1s - loss: 0.5744 - acc: 0.6705 - val_loss: 0.6191 - val_acc: 0.6344\n",
      "Epoch 5/5\n",
      "1035/1035 [==============================] - 1s - loss: 0.5797 - acc: 0.6831 - val_loss: 0.6180 - val_acc: 0.6237\n"
     ]
    }
   ],
   "source": [
    "#Model 4\n",
    "vocab = 30\n",
    "length = n\n",
    "embedding_vector = 12\n",
    "n_timesteps = 20\n",
    "\n",
    "model = Sequential()\n",
    "model.add(Embedding(input_dim=vocab, output_dim=embedding_vector, input_length=length))\n",
    "model.add(Reshape((1, length, embedding_vector)))\n",
    "model.add(Convolution2D(254, 1, 5, border_mode='same'))\n",
    "model.add(Activation('relu'))\n",
    "model.add(MaxPooling2D(pool_size=(1, 5)))\n",
    "model.add(Flatten())\n",
    "#model.add(Reshape((5376, 1)))\n",
    "#model.add(Bidirectional(LSTM(20, return_sequences=True), input_shape=(n_timesteps,)))\n",
    "#model.add(TimeDistributed(Dense(1, activation='sigmoid')))\n",
    "#model.add(GlobalMaxPool1D())\n",
    "#model.add(Flatten())\n",
    "#model.add(Dropout(0.7))\n",
    "model.add(Dense(16))\n",
    "model.add(Activation('relu'))\n",
    "#model.add(BatchNormalization())\n",
    "model.add(Dropout(0.7))\n",
    "model.add(Dense(8))\n",
    "#model.add(BatchNormalization())\n",
    "model.add(Activation('relu'))\n",
    "#model.add(Dropout(0.7))\n",
    "model.add(Dense(2))\n",
    "model.add(Activation('softmax'))\n",
    "model.summary()\n",
    "\n",
    "op = Adam(lr=0.00001)\n",
    "model.compile(optimizer=op, loss='categorical_crossentropy', metrics=['accuracy'])\n",
    "\n",
    "def learn(lr, epochs):\n",
    "    op.lr = lr\n",
    "    model.fit(x=x_train, y=y_categorical_train, nb_epoch=epochs, batch_size=64, validation_data=(x_test, y_categorical_test), verbose=1)\n",
    "\n",
    "#Train\n",
    "learn(0.0015, 5)\n",
    "learn(0.00015, 5)\n",
    "learn(0.000015, 5)\n",
    "#Accuracy Reduced: Train 94, Test 78\n",
    "#Accuracy: Train 96, Test 85"
   ]
  },
  {
   "cell_type": "code",
   "execution_count": 12,
   "metadata": {
    "scrolled": true
   },
   "outputs": [
    {
     "name": "stdout",
     "output_type": "stream",
     "text": [
      "Train on 1035 samples, validate on 186 samples\n",
      "Epoch 1/15\n",
      "1035/1035 [==============================] - 1s - loss: 0.5707 - acc: 0.6705 - val_loss: 0.6195 - val_acc: 0.6774\n",
      "Epoch 2/15\n",
      "1035/1035 [==============================] - 1s - loss: 0.5747 - acc: 0.6947 - val_loss: 0.6116 - val_acc: 0.6989\n",
      "Epoch 3/15\n",
      "1035/1035 [==============================] - 1s - loss: 0.5906 - acc: 0.6821 - val_loss: 0.6074 - val_acc: 0.6559\n",
      "Epoch 4/15\n",
      "1035/1035 [==============================] - 1s - loss: 0.5420 - acc: 0.7043 - val_loss: 0.5991 - val_acc: 0.69350.7 - ETA: 0s - loss: 0.5404 - ac\n",
      "Epoch 5/15\n",
      "1035/1035 [==============================] - 1s - loss: 0.5342 - acc: 0.7333 - val_loss: 0.6071 - val_acc: 0.6882TA: 0s - loss: 0.5312 - acc: 0.7\n",
      "Epoch 6/15\n",
      "1035/1035 [==============================] - 1s - loss: 0.5502 - acc: 0.6995 - val_loss: 0.6591 - val_acc: 0.6882- ETA: 0s - loss: 0.5457 - acc: 0.71 - ETA: 0s - loss: 0.5436 - acc: \n",
      "Epoch 7/15\n",
      "1035/1035 [==============================] - 1s - loss: 0.5260 - acc: 0.7440 - val_loss: 0.6149 - val_acc: 0.6882\n",
      "Epoch 8/15\n",
      "1035/1035 [==============================] - 1s - loss: 0.5124 - acc: 0.7159 - val_loss: 0.6052 - val_acc: 0.66130.771 - ETA: 1s - loss: 0.4833 - \n",
      "Epoch 9/15\n",
      "1035/1035 [==============================] - 1s - loss: 0.4921 - acc: 0.7391 - val_loss: 0.6149 - val_acc: 0.68820.739\n",
      "Epoch 10/15\n",
      "1035/1035 [==============================] - 1s - loss: 0.5105 - acc: 0.7353 - val_loss: 0.6230 - val_acc: 0.6882\n",
      "Epoch 11/15\n",
      "1035/1035 [==============================] - 1s - loss: 0.5092 - acc: 0.7227 - val_loss: 0.6124 - val_acc: 0.68280.723\n",
      "Epoch 12/15\n",
      "1035/1035 [==============================] - 1s - loss: 0.4662 - acc: 0.7430 - val_loss: 0.5988 - val_acc: 0.6828\n",
      "Epoch 13/15\n",
      "1035/1035 [==============================] - 1s - loss: 0.4911 - acc: 0.7478 - val_loss: 0.6001 - val_acc: 0.67740.7 - ETA: 0s - loss: 0.4997 - acc: 0.747 - ETA: 0s - loss: 0.4990 - acc: 0.\n",
      "Epoch 14/15\n",
      "1035/1035 [==============================] - 1s - loss: 0.4468 - acc: 0.7671 - val_loss: 0.5865 - val_acc: 0.7097\n",
      "Epoch 15/15\n",
      "1035/1035 [==============================] - 1s - loss: 0.4711 - acc: 0.7527 - val_loss: 0.6017 - val_acc: 0.6989\n"
     ]
    }
   ],
   "source": [
    "learn(0.0015, 15)"
   ]
  },
  {
   "cell_type": "markdown",
   "metadata": {},
   "source": [
    "# Graph"
   ]
  },
  {
   "cell_type": "code",
   "execution_count": 130,
   "metadata": {},
   "outputs": [
    {
     "data": {
      "image/png": "[encoded data removed]",
      "text/plain": [
       "<matplotlib.figure.Figure at 0xcbabfd68>"
      ]
     },
     "metadata": {},
     "output_type": "display_data"
    }
   ],
   "source": [
    "import matplotlib.pyplot as plt\n",
    "objects=('DNA Binding','Non DNA Binding')\n",
    "y_pos=[1,2]\n",
    "plt.bar([1,2],[487,548],align='center')\n",
    "plt.xticks(y_pos,objects)\n",
    "plt.show()"
   ]
  },
  {
   "cell_type": "code",
   "execution_count": 128,
   "metadata": {},
   "outputs": [
    {
     "data": {
      "text/plain": [
       "548.0"
      ]
     },
     "execution_count": 128,
     "metadata": {},
     "output_type": "execute_result"
    }
   ],
   "source": [
    "col = lambda x: data.iloc[:, x]\n",
    "len(col(-1)) - col(-1).sum()"
   ]
  },
  {
   "cell_type": "code",
   "execution_count": 150,
   "metadata": {},
   "outputs": [],
   "source": [
    "def generate_roc(n_classes, y_test, y_score):\n",
    "\t# Compute ROC curve and ROC area for each class\n",
    "\tfrom sklearn.metrics import roc_curve, auc\n",
    "\tfpr = dict()\n",
    "\ttpr = dict()\n",
    "\troc_auc = dict()\n",
    "\tfor i in range(n_classes):\n",
    "\t    fpr[i], tpr[i], _ = roc_curve(y_test[:, i], y_score[:, i])\n",
    "\t    roc_auc[i] = auc(fpr[i], tpr[i])\n",
    "\n",
    "\t# Compute micro-average ROC curve and ROC area\n",
    "\tfpr[\"micro\"], tpr[\"micro\"], _ = roc_curve(y_test.ravel(), y_score.ravel())\n",
    "\troc_auc[\"micro\"] = auc(fpr[\"micro\"], tpr[\"micro\"])\n",
    "\treturn fpr, tpr, roc_auc"
   ]
  },
  {
   "cell_type": "code",
   "execution_count": 167,
   "metadata": {},
   "outputs": [],
   "source": [
    "def generate_graph(fpr, tpr, roc_auc):\n",
    "    plt.figure()\n",
    "    lw = 2\n",
    "    plt.plot(fpr[1], tpr[1], color='darkorange',\n",
    "             lw=lw, label='ROC curve (area = %0.2f)' % roc_auc[1])\n",
    "    plt.plot([0, 1], [0, 1], color='navy', lw=lw, linestyle='--')\n",
    "    plt.xlim([0.0, 1.0])\n",
    "    plt.ylim([0.0, 1.05])\n",
    "    plt.xlabel('False Positive Rate')\n",
    "    plt.ylabel('True Positive Rate')\n",
    "    plt.title('Receiver operating characteristic example')\n",
    "    plt.legend(loc=\"lower right\")\n",
    "    plt.show()"
   ]
  },
  {
   "cell_type": "code",
   "execution_count": 174,
   "metadata": {},
   "outputs": [
    {
     "data": {
      "image/png": "[encoded data removed]",
      "text/plain": [
       "<matplotlib.figure.Figure at 0xccfed518>"
      ]
     },
     "metadata": {},
     "output_type": "display_data"
    }
   ],
   "source": [
    "y_test = np.array([\n",
    "    [1, 1],\n",
    "    [0, 1],\n",
    "    [1, 0],\n",
    "    [0, 1],\n",
    "    [1, 1],\n",
    "    [0, 1],\n",
    "    [1, 0],\n",
    "    [0, 1],\n",
    "    [1, 1],\n",
    "    [0, 1],\n",
    "    [1, 0],\n",
    "    [0, 1],\n",
    "])\n",
    "y_score = np.array([\n",
    "    [1, 1],\n",
    "    [0, 1],\n",
    "    [1, 1],\n",
    "    [0, 1],\n",
    "    [1, 1],\n",
    "    [0, 1],\n",
    "    [1, 0],\n",
    "    [0, 0],\n",
    "    [1, 1],\n",
    "    [0, 0],\n",
    "    [1, 0],\n",
    "    [0, 0],\n",
    "])\n",
    "\n",
    "fpr, tpr, roc_auc = generate_roc(2, y_test, y_score)\n",
    "generate_graph(fpr, tpr, roc_auc)"
   ]
  },
  {
   "cell_type": "code",
   "execution_count": 176,
   "metadata": {},
   "outputs": [
    {
     "data": {
      "text/plain": [
       "(186L, 1323L)"
      ]
     },
     "execution_count": 176,
     "metadata": {},
     "output_type": "execute_result"
    }
   ],
   "source": [
    "x_test.shape"
   ]
  },
  {
   "cell_type": "markdown",
   "metadata": {},
   "source": [
    "## Confusion Matrix"
   ]
  },
  {
   "cell_type": "code",
   "execution_count": 199,
   "metadata": {},
   "outputs": [],
   "source": [
    "def generate_confusion_matrix(X, y):\n",
    "    from sklearn.metrics import confusion_matrix\n",
    "    y_pred = np.argmax(model.predict(x=X, batch_size=1), axis=1)\n",
    "    y_true = y[:, -1]\n",
    "    return confusion_matrix(y_true, y_pred)"
   ]
  },
  {
   "cell_type": "code",
   "execution_count": 200,
   "metadata": {},
   "outputs": [
    {
     "data": {
      "text/plain": [
       "array([[545,   3],\n",
       "       [  2, 485]], dtype=int64)"
      ]
     },
     "execution_count": 200,
     "metadata": {},
     "output_type": "execute_result"
    }
   ],
   "source": [
    "generate_confusion_matrix(x_train, y_categorical_train)"
   ]
  },
  {
   "cell_type": "markdown",
   "metadata": {},
   "source": [
    "# Model Architecture"
   ]
  },
  {
   "cell_type": "code",
   "execution_count": 11,
   "metadata": {},
   "outputs": [
    {
     "ename": "ImportError",
     "evalue": "cannot import name plot_model",
     "output_type": "error",
     "traceback": [
      "\u001b[1;31m---------------------------------------------------------------------------\u001b[0m",
      "\u001b[1;31mImportError\u001b[0m                               Traceback (most recent call last)",
      "\u001b[1;32m<ipython-input-11-437440fcd987>\u001b[0m in \u001b[0;36m<module>\u001b[1;34m()\u001b[0m\n\u001b[1;32m----> 1\u001b[1;33m \u001b[1;32mfrom\u001b[0m \u001b[0mkeras\u001b[0m\u001b[1;33m.\u001b[0m\u001b[0mutils\u001b[0m \u001b[1;32mimport\u001b[0m \u001b[0mplot_model\u001b[0m\u001b[1;33m\u001b[0m\u001b[0m\n\u001b[0m\u001b[0;32m      2\u001b[0m \u001b[0mplot_model\u001b[0m\u001b[1;33m(\u001b[0m\u001b[0mmodel\u001b[0m\u001b[1;33m,\u001b[0m \u001b[0mto_file\u001b[0m\u001b[1;33m=\u001b[0m\u001b[1;34m'model.png'\u001b[0m\u001b[1;33m)\u001b[0m\u001b[1;33m\u001b[0m\u001b[0m\n",
      "\u001b[1;31mImportError\u001b[0m: cannot import name plot_model"
     ]
    }
   ],
   "source": [
    "from keras.utils import plot_model\n",
    "plot_model(model, to_file='model.png')"
   ]
  },
  {
   "cell_type": "markdown",
   "metadata": {},
   "source": [
    "# Final Model"
   ]
  },
  {
   "cell_type": "code",
   "execution_count": null,
   "metadata": {},
   "outputs": [],
   "source": [
    "vocab = 50\n",
    "length = n\n",
    "embedding_vector = 8\n",
    "n_timesteps = 20\n",
    "\n",
    "model = Sequential()\n",
    "model.add(Embedding(input_dim=vocab, output_dim=embedding_vector, input_length=length))\n",
    "model.add(Reshape((1, length, embedding_vector)))\n",
    "model.add(Convolution2D(128, 1, 31, border_mode='same'))\n",
    "model.add(Activation('relu'))\n",
    "model.add(MaxPooling2D(pool_size=(1, 31)))\n",
    "model.add(Flatten())\n",
    "#model.add(Reshape((5376, 1)))\n",
    "#model.add(Bidirectional(LSTM(20, return_sequences=True), input_shape=(n_timesteps,)))\n",
    "#model.add(TimeDistributed(Dense(1, activation='sigmoid')))\n",
    "#model.add(GlobalMaxPool1D())\n",
    "#model.add(Flatten())\n",
    "model.add(Dropout(0.3))\n",
    "model.add(Dense(32))\n",
    "model.add(Activation('relu'))\n",
    "model.add(Dropout(0.3))\n",
    "model.add(Dense(16))\n",
    "model.add(Activation('relu'))\n",
    "model.add(Dropout(0.3))\n",
    "model.add(Dense(2))\n",
    "model.add(Activation('softmax'))\n",
    "model.summary()\n",
    "\n",
    "op = Adam(lr=0.00001)\n",
    "model.compile(optimizer=op, loss='categorical_crossentropy', metrics=['accuracy'])\n",
    "\n",
    "def learn(lr, epochs):\n",
    "    op.lr = lr\n",
    "    model.fit(x=x_train, y=y_categorical_train, nb_epoch=epochs, batch_size=64, validation_data=(x_test, y_categorical_test), verbose=1)\n",
    "\n",
    "learn(0.0015, 20)\n",
    "#AUC: 0.74193548387096775\n"
   ]
  },
  {
   "cell_type": "code",
   "execution_count": 58,
   "metadata": {},
   "outputs": [],
   "source": [
    "def fix_col(data):\n",
    "    return data.reshape( ( data.shape[0], 1 ) )"
   ]
  },
  {
   "cell_type": "code",
   "execution_count": 63,
   "metadata": {},
   "outputs": [],
   "source": [
    "from sklearn.metrics import roc_curve\n",
    "y_pred_keras = np.argmax(model.predict(x_test), axis=1)\n",
    "fpr_keras, tpr_keras, thresholds_keras = roc_curve(fix_col(y_test), fix_col(y_pred_keras))"
   ]
  },
  {
   "cell_type": "code",
   "execution_count": 64,
   "metadata": {},
   "outputs": [],
   "source": [
    "from sklearn.metrics import auc\n",
    "auc_keras = auc(fpr_keras, tpr_keras)"
   ]
  },
  {
   "cell_type": "code",
   "execution_count": 49,
   "metadata": {},
   "outputs": [],
   "source": [
    "y_test = y_test.reshape((y_test.shape[0], 1))"
   ]
  },
  {
   "cell_type": "code",
   "execution_count": 65,
   "metadata": {},
   "outputs": [
    {
     "data": {
      "text/plain": [
       "0.74193548387096775"
      ]
     },
     "execution_count": 65,
     "metadata": {},
     "output_type": "execute_result"
    }
   ],
   "source": [
    "auc_keras"
   ]
  },
  {
   "cell_type": "code",
   "execution_count": 53,
   "metadata": {},
   "outputs": [
    {
     "data": {
      "text/plain": [
       "(186L, 1323L)"
      ]
     },
     "execution_count": 53,
     "metadata": {},
     "output_type": "execute_result"
    }
   ],
   "source": [
    "x_test.shape"
   ]
  },
  {
   "cell_type": "code",
   "execution_count": 62,
   "metadata": {},
   "outputs": [
    {
     "data": {
      "text/plain": [
       "array([1, 1, 1, 1, 1, 1, 0, 0, 1, 1, 1, 1, 0, 0, 1, 0, 1, 1, 1, 1, 0, 1, 0,\n",
       "       0, 0, 0, 0, 1, 0, 0, 1, 1, 0, 1, 0, 1, 1, 1, 0, 0, 1, 1, 0, 1, 1, 0,\n",
       "       1, 0, 1, 0, 1, 1, 0, 0, 1, 0, 1, 1, 0, 1, 1, 1, 0, 1, 0, 0, 1, 1, 0,\n",
       "       1, 1, 0, 1, 0, 1, 1, 0, 0, 0, 0, 1, 1, 1, 1, 1, 1, 1, 1, 1, 1, 1, 1,\n",
       "       1, 0, 1, 1, 0, 1, 0, 0, 0, 1, 0, 1, 1, 0, 0, 0, 1, 1, 1, 1, 1, 1, 1,\n",
       "       1, 0, 0, 1, 1, 0, 0, 1, 0, 1, 1, 1, 0, 1, 1, 0, 0, 1, 1, 1, 1, 0, 1,\n",
       "       1, 1, 0, 1, 1, 1, 0, 1, 1, 0, 1, 1, 0, 1, 1, 1, 1, 0, 1, 0, 1, 1, 1,\n",
       "       0, 1, 1, 0, 1, 0, 1, 1, 1, 1, 1, 1, 1, 1, 1, 0, 1, 0, 1, 0, 0, 1, 1,\n",
       "       1, 0], dtype=int64)"
      ]
     },
     "execution_count": 62,
     "metadata": {},
     "output_type": "execute_result"
    }
   ],
   "source": [
    "np.argmax(y_pred_keras, axis=1)"
   ]
  },
  {
   "cell_type": "code",
   "execution_count": null,
   "metadata": {},
   "outputs": [],
   "source": []
  }
 ],
 "metadata": {
  "kernelspec": {
   "display_name": "Python 3",
   "language": "python",
   "name": "python3"
  },
  "language_info": {
   "codemirror_mode": {
    "name": "ipython",
    "version": 3
   },
   "file_extension": ".py",
   "mimetype": "text/x-python",
   "name": "python",
   "nbconvert_exporter": "python",
   "pygments_lexer": "ipython3",
   "version": "3.6.5"
  }
 },
 "nbformat": 4,
 "nbformat_minor": 2
}
