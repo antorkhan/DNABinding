{
 "cells": [
  {
   "cell_type": "code",
   "execution_count": 1,
   "metadata": {
    "scrolled": true
   },
   "outputs": [
    {
     "name": "stderr",
     "output_type": "stream",
     "text": [
      "Using Theano backend.\n",
      "Using cuDNN version 6021 on context None\n",
      "Mapped name None to device cuda: GeForce GTX 1050 Ti (0000:01:00.0)\n"
     ]
    }
   ],
   "source": [
    "import pandas as pd\n",
    "from keras.preprocessing import sequence\n",
    "from keras.models import Sequential\n",
    "from keras.layers import *\n",
    "from keras.utils import np_utils\n",
    "from keras.optimizers import Adam\n",
    "from sklearn.model_selection import train_test_split"
   ]
  },
  {
   "cell_type": "markdown",
   "metadata": {},
   "source": [
    "# Import Data"
   ]
  },
  {
   "cell_type": "code",
   "execution_count": 2,
   "metadata": {
    "scrolled": true
   },
   "outputs": [],
   "source": [
    "def read_data(dataset):\n",
    "    data = pd.read_csv(dataset)\n",
    "    data.drop(data.columns[[0]], axis=1, inplace=True)\n",
    "    data = data.sample(frac=1)\n",
    "    data = data.values\n",
    "    n = data.shape[1] - 1\n",
    "    x = data[:,0:n]\n",
    "    y = data[:,n]\n",
    "    y_categorical = np_utils.to_categorical(y)\n",
    "    return (x, y_categorical)"
   ]
  },
  {
   "cell_type": "code",
   "execution_count": 3,
   "metadata": {
    "scrolled": true
   },
   "outputs": [],
   "source": [
    "num_features = 29680"
   ]
  },
  {
   "cell_type": "code",
   "execution_count": 12,
   "metadata": {
    "scrolled": true
   },
   "outputs": [],
   "source": [
    "x_train, y_categorical_train = read_data('Featurized/train_featurized_reduced_with_class.csv')\n",
    "x_test, y_categorical_test = read_data('Featurized/test_featurized_with_class.csv')"
   ]
  },
  {
   "cell_type": "code",
   "execution_count": 11,
   "metadata": {},
   "outputs": [
    {
     "data": {
      "text/plain": [
       "array([[ 0.04067797,  0.00340136,  0.        , ...,  0.        ,\n",
       "         0.        ,  0.        ],\n",
       "       [ 0.03669725,  0.        ,  0.        , ...,  0.        ,\n",
       "         0.        ,  0.        ],\n",
       "       [ 0.04807692,  0.00970874,  0.        , ...,  0.        ,\n",
       "         0.        ,  0.        ],\n",
       "       ..., \n",
       "       [ 0.04227783,  0.00431779,  0.        , ...,  0.        ,\n",
       "         0.        ,  0.        ],\n",
       "       [ 0.10526316,  0.02352941,  0.        , ...,  0.        ,\n",
       "         0.        ,  0.        ],\n",
       "       [ 0.00895522,  0.        ,  0.        , ...,  0.        ,\n",
       "         0.        ,  0.        ]])"
      ]
     },
     "execution_count": 11,
     "metadata": {},
     "output_type": "execute_result"
    }
   ],
   "source": [
    "x_train.shape"
   ]
  },
  {
   "cell_type": "markdown",
   "metadata": {},
   "source": [
    "# Simple"
   ]
  },
  {
   "cell_type": "code",
   "execution_count": 6,
   "metadata": {},
   "outputs": [
    {
     "name": "stdout",
     "output_type": "stream",
     "text": [
      "(805L, 100L)\n"
     ]
    }
   ],
   "source": []
  },
  {
   "cell_type": "code",
   "execution_count": 72,
   "metadata": {},
   "outputs": [],
   "source": [
    "\n",
    "model = Sequential()\n",
    "def DenseBlock(num):\n",
    "    model.add(Dropout(0.7))\n",
    "    model.add(Dense(num))\n",
    "    model.add(BatchNormalization())\n",
    "    model.add(Activation('relu'))\n",
    "def InputBlock(num, shape):\n",
    "    model.add(Dense(num, input_shape=shape))\n",
    "def OutputBlock(shape):\n",
    "    model.add(Dropout(0.6))\n",
    "    model.add(Dense(shape))\n",
    "    model.add(Activation('softmax'))\n",
    "def ConvBlock(filters):\n",
    "    model.add(Convolution1D(filters, 3, border_mode='same', activation='relu'))\n",
    "    model.add(MaxPooling1D(2))\n",
    "    \n",
    "InputBlock(128, (num_features, ))\n",
    "DenseBlock(64)\n",
    "DenseBlock(32)\n",
    "OutputBlock(2)"
   ]
  },
  {
   "cell_type": "code",
   "execution_count": 73,
   "metadata": {},
   "outputs": [],
   "source": [
    "op = Adam(lr=0.00001)\n",
    "model.compile(optimizer=op, loss='categorical_crossentropy', metrics=['accuracy'])"
   ]
  },
  {
   "cell_type": "code",
   "execution_count": 8,
   "metadata": {},
   "outputs": [],
   "source": [
    "def learn(lr, epochs):\n",
    "    op.lr = lr\n",
    "    model.fit(x=x_train, y=y_categorical_train, nb_epoch=epochs, batch_size=2048, validation_data=(x_test, y_categorical_test))"
   ]
  },
  {
   "cell_type": "code",
   "execution_count": 77,
   "metadata": {
    "scrolled": true
   },
   "outputs": [
    {
     "name": "stdout",
     "output_type": "stream",
     "text": [
      "Train on 1034 samples, validate on 186 samples\n",
      "Epoch 1/20\n",
      "1034/1034 [==============================] - 0s - loss: 0.1768 - acc: 0.9700 - val_loss: 0.4100 - val_acc: 0.8172\n",
      "Epoch 2/20\n",
      "1034/1034 [==============================] - 0s - loss: 0.1700 - acc: 0.9710 - val_loss: 0.4081 - val_acc: 0.8172\n",
      "Epoch 3/20\n",
      "1034/1034 [==============================] - 0s - loss: 0.1715 - acc: 0.9671 - val_loss: 0.4062 - val_acc: 0.8172\n",
      "Epoch 4/20\n",
      "1034/1034 [==============================] - 0s - loss: 0.1751 - acc: 0.9652 - val_loss: 0.4045 - val_acc: 0.8172\n",
      "Epoch 5/20\n",
      "1034/1034 [==============================] - 0s - loss: 0.1674 - acc: 0.9710 - val_loss: 0.4026 - val_acc: 0.8172\n",
      "Epoch 6/20\n",
      "1034/1034 [==============================] - 0s - loss: 0.1773 - acc: 0.9691 - val_loss: 0.4010 - val_acc: 0.8172\n",
      "Epoch 7/20\n",
      "1034/1034 [==============================] - 1s - loss: 0.1718 - acc: 0.9671 - val_loss: 0.3996 - val_acc: 0.8172\n",
      "Epoch 8/20\n",
      "1034/1034 [==============================] - 0s - loss: 0.1647 - acc: 0.9729 - val_loss: 0.3983 - val_acc: 0.8172\n",
      "Epoch 9/20\n",
      "1034/1034 [==============================] - 1s - loss: 0.1638 - acc: 0.9642 - val_loss: 0.3968 - val_acc: 0.8172\n",
      "Epoch 10/20\n",
      "1034/1034 [==============================] - 0s - loss: 0.1631 - acc: 0.9691 - val_loss: 0.3956 - val_acc: 0.8172\n",
      "Epoch 11/20\n",
      "1034/1034 [==============================] - 1s - loss: 0.1685 - acc: 0.9671 - val_loss: 0.3943 - val_acc: 0.8172\n",
      "Epoch 12/20\n",
      "1034/1034 [==============================] - 1s - loss: 0.1503 - acc: 0.9758 - val_loss: 0.3933 - val_acc: 0.8172\n",
      "Epoch 13/20\n",
      "1034/1034 [==============================] - 1s - loss: 0.1531 - acc: 0.9749 - val_loss: 0.3922 - val_acc: 0.8172\n",
      "Epoch 14/20\n",
      "1034/1034 [==============================] - 1s - loss: 0.1626 - acc: 0.9671 - val_loss: 0.3914 - val_acc: 0.8172\n",
      "Epoch 15/20\n",
      "1034/1034 [==============================] - 1s - loss: 0.1519 - acc: 0.9729 - val_loss: 0.3906 - val_acc: 0.8226\n",
      "Epoch 16/20\n",
      "1034/1034 [==============================] - 1s - loss: 0.1583 - acc: 0.9623 - val_loss: 0.3900 - val_acc: 0.8226\n",
      "Epoch 17/20\n",
      "1034/1034 [==============================] - 1s - loss: 0.1443 - acc: 0.9797 - val_loss: 0.3896 - val_acc: 0.8226\n",
      "Epoch 18/20\n",
      "1034/1034 [==============================] - 1s - loss: 0.1467 - acc: 0.9778 - val_loss: 0.3894 - val_acc: 0.8226\n",
      "Epoch 19/20\n",
      "1034/1034 [==============================] - 1s - loss: 0.1365 - acc: 0.9807 - val_loss: 0.3894 - val_acc: 0.8226\n",
      "Epoch 20/20\n",
      "1034/1034 [==============================] - 1s - loss: 0.1590 - acc: 0.9603 - val_loss: 0.3890 - val_acc: 0.8226\n"
     ]
    }
   ],
   "source": [
    "learn(0.00005, 20)"
   ]
  },
  {
   "cell_type": "code",
   "execution_count": 87,
   "metadata": {},
   "outputs": [
    {
     "name": "stdout",
     "output_type": "stream",
     "text": [
      "186/186 [==============================] - 0s     \n"
     ]
    },
    {
     "data": {
      "text/plain": [
       "[0.60578838599625451, 0.75268817012028033]"
      ]
     },
     "execution_count": 87,
     "metadata": {},
     "output_type": "execute_result"
    }
   ],
   "source": [
    "model.evaluate(x_test, y_categorical_test)"
   ]
  },
  {
   "cell_type": "code",
   "execution_count": 68,
   "metadata": {
    "scrolled": false
   },
   "outputs": [
    {
     "name": "stdout",
     "output_type": "stream",
     "text": [
      "Train on 1034 samples, validate on 186 samples\n",
      "Epoch 1/40\n",
      "1034/1034 [==============================] - 0s - loss: 0.1651 - acc: 0.9613 - val_loss: 0.4090 - val_acc: 0.8656\n",
      "Epoch 2/40\n",
      "1034/1034 [==============================] - 1s - loss: 0.1632 - acc: 0.9613 - val_loss: 0.4069 - val_acc: 0.8656\n",
      "Epoch 3/40\n",
      "1034/1034 [==============================] - 1s - loss: 0.1694 - acc: 0.9574 - val_loss: 0.4049 - val_acc: 0.8656\n",
      "Epoch 4/40\n",
      "1034/1034 [==============================] - 1s - loss: 0.1776 - acc: 0.9478 - val_loss: 0.4027 - val_acc: 0.8656\n",
      "Epoch 5/40\n",
      "1034/1034 [==============================] - 1s - loss: 0.1643 - acc: 0.9662 - val_loss: 0.4006 - val_acc: 0.8656\n",
      "Epoch 6/40\n",
      "1034/1034 [==============================] - 1s - loss: 0.1654 - acc: 0.9507 - val_loss: 0.3987 - val_acc: 0.8656\n",
      "Epoch 7/40\n",
      "1034/1034 [==============================] - 1s - loss: 0.1740 - acc: 0.9516 - val_loss: 0.3967 - val_acc: 0.8656\n",
      "Epoch 8/40\n",
      "1034/1034 [==============================] - 1s - loss: 0.1590 - acc: 0.9603 - val_loss: 0.3948 - val_acc: 0.8656\n",
      "Epoch 9/40\n",
      "1034/1034 [==============================] - 1s - loss: 0.1476 - acc: 0.9729 - val_loss: 0.3929 - val_acc: 0.8656\n",
      "Epoch 10/40\n",
      "1034/1034 [==============================] - 1s - loss: 0.1612 - acc: 0.9652 - val_loss: 0.3907 - val_acc: 0.8656\n",
      "Epoch 11/40\n",
      "1034/1034 [==============================] - 1s - loss: 0.1444 - acc: 0.9671 - val_loss: 0.3888 - val_acc: 0.8656\n",
      "Epoch 12/40\n",
      "1034/1034 [==============================] - 1s - loss: 0.1582 - acc: 0.9632 - val_loss: 0.3867 - val_acc: 0.8656\n",
      "Epoch 13/40\n",
      "1034/1034 [==============================] - 1s - loss: 0.1653 - acc: 0.9603 - val_loss: 0.3846 - val_acc: 0.8656\n",
      "Epoch 14/40\n",
      "1034/1034 [==============================] - 1s - loss: 0.1435 - acc: 0.9729 - val_loss: 0.3825 - val_acc: 0.8656\n",
      "Epoch 15/40\n",
      "1034/1034 [==============================] - 1s - loss: 0.1513 - acc: 0.9594 - val_loss: 0.3803 - val_acc: 0.8656\n",
      "Epoch 16/40\n",
      "1034/1034 [==============================] - 1s - loss: 0.1412 - acc: 0.9700 - val_loss: 0.3781 - val_acc: 0.8656\n",
      "Epoch 17/40\n",
      "1034/1034 [==============================] - 1s - loss: 0.1400 - acc: 0.9778 - val_loss: 0.3762 - val_acc: 0.8656\n",
      "Epoch 18/40\n",
      "1034/1034 [==============================] - 1s - loss: 0.1422 - acc: 0.9662 - val_loss: 0.3743 - val_acc: 0.8602\n",
      "Epoch 19/40\n",
      "1034/1034 [==============================] - 1s - loss: 0.1330 - acc: 0.9749 - val_loss: 0.3723 - val_acc: 0.8602\n",
      "Epoch 20/40\n",
      "1034/1034 [==============================] - 1s - loss: 0.1384 - acc: 0.9720 - val_loss: 0.3702 - val_acc: 0.8602\n",
      "Epoch 21/40\n",
      "1034/1034 [==============================] - 1s - loss: 0.1405 - acc: 0.9700 - val_loss: 0.3680 - val_acc: 0.8602\n",
      "Epoch 22/40\n",
      "1034/1034 [==============================] - 1s - loss: 0.1315 - acc: 0.9749 - val_loss: 0.3662 - val_acc: 0.8602\n",
      "Epoch 23/40\n",
      "1034/1034 [==============================] - 1s - loss: 0.1324 - acc: 0.9768 - val_loss: 0.3643 - val_acc: 0.8602\n",
      "Epoch 24/40\n",
      "1034/1034 [==============================] - 1s - loss: 0.1277 - acc: 0.9807 - val_loss: 0.3623 - val_acc: 0.8602\n",
      "Epoch 25/40\n",
      "1034/1034 [==============================] - 1s - loss: 0.1183 - acc: 0.9845 - val_loss: 0.3604 - val_acc: 0.8602\n",
      "Epoch 26/40\n",
      "1034/1034 [==============================] - 1s - loss: 0.1181 - acc: 0.9836 - val_loss: 0.3588 - val_acc: 0.8602\n",
      "Epoch 27/40\n",
      "1034/1034 [==============================] - 1s - loss: 0.1275 - acc: 0.9778 - val_loss: 0.3572 - val_acc: 0.8602\n",
      "Epoch 28/40\n",
      "1034/1034 [==============================] - 1s - loss: 0.1250 - acc: 0.9778 - val_loss: 0.3555 - val_acc: 0.8602\n",
      "Epoch 29/40\n",
      "1034/1034 [==============================] - 1s - loss: 0.1194 - acc: 0.9778 - val_loss: 0.3544 - val_acc: 0.8602\n",
      "Epoch 30/40\n",
      "1034/1034 [==============================] - 1s - loss: 0.1157 - acc: 0.9797 - val_loss: 0.3532 - val_acc: 0.8602\n",
      "Epoch 31/40\n",
      "1034/1034 [==============================] - 1s - loss: 0.1204 - acc: 0.9807 - val_loss: 0.3520 - val_acc: 0.8495\n",
      "Epoch 32/40\n",
      "1034/1034 [==============================] - 1s - loss: 0.1092 - acc: 0.9816 - val_loss: 0.3511 - val_acc: 0.8495\n",
      "Epoch 33/40\n",
      "1034/1034 [==============================] - 1s - loss: 0.1142 - acc: 0.9787 - val_loss: 0.3500 - val_acc: 0.8495\n",
      "Epoch 34/40\n",
      "1034/1034 [==============================] - 1s - loss: 0.1186 - acc: 0.9797 - val_loss: 0.3489 - val_acc: 0.8495\n",
      "Epoch 35/40\n",
      "1034/1034 [==============================] - 1s - loss: 0.1027 - acc: 0.9865 - val_loss: 0.3479 - val_acc: 0.8495\n",
      "Epoch 36/40\n",
      "1034/1034 [==============================] - 1s - loss: 0.1059 - acc: 0.9855 - val_loss: 0.3468 - val_acc: 0.8495\n",
      "Epoch 37/40\n",
      "1034/1034 [==============================] - 1s - loss: 0.1084 - acc: 0.9894 - val_loss: 0.3460 - val_acc: 0.8441\n",
      "Epoch 38/40\n",
      "1034/1034 [==============================] - 1s - loss: 0.1124 - acc: 0.9855 - val_loss: 0.3452 - val_acc: 0.8441\n",
      "Epoch 39/40\n",
      "1034/1034 [==============================] - 1s - loss: 0.1106 - acc: 0.9807 - val_loss: 0.3445 - val_acc: 0.8495\n",
      "Epoch 40/40\n",
      "1034/1034 [==============================] - 1s - loss: 0.1009 - acc: 0.9826 - val_loss: 0.3437 - val_acc: 0.8495\n"
     ]
    }
   ],
   "source": [
    "learn(0.00005, 40)"
   ]
  },
  {
   "cell_type": "markdown",
   "metadata": {
    "collapsed": true
   },
   "source": [
    "## Notes:"
   ]
  },
  {
   "cell_type": "markdown",
   "metadata": {},
   "source": [
    " Highest: Train: 91.81 Validation: 86.17 With Dropout: 0.8 LR: 0.00015, Epoch: 20\n",
    "\n",
    " Most Stable: Train: 93.95% Validation: 93.01% With Dropout (including the last layer): 0.8 \n",
    " 1. LR: 0.00015, Epoch: 30\n",
    " 2. LR: 0.00005, Epoch: 20"
   ]
  },
  {
   "cell_type": "code",
   "execution_count": 78,
   "metadata": {},
   "outputs": [
    {
     "name": "stdout",
     "output_type": "stream",
     "text": [
      "____________________________________________________________________________________________________\n",
      "Layer (type)                     Output Shape          Param #     Connected to                     \n",
      "====================================================================================================\n",
      "dense_26 (Dense)                 (None, 128)           3799168     dense_input_8[0][0]              \n",
      "____________________________________________________________________________________________________\n",
      "dropout_19 (Dropout)             (None, 128)           0           dense_26[0][0]                   \n",
      "____________________________________________________________________________________________________\n",
      "dense_27 (Dense)                 (None, 64)            8256        dropout_19[0][0]                 \n",
      "____________________________________________________________________________________________________\n",
      "batchnormalization_12 (BatchNorm (None, 64)            256         dense_27[0][0]                   \n",
      "____________________________________________________________________________________________________\n",
      "activation_19 (Activation)       (None, 64)            0           batchnormalization_12[0][0]      \n",
      "____________________________________________________________________________________________________\n",
      "dropout_20 (Dropout)             (None, 64)            0           activation_19[0][0]              \n",
      "____________________________________________________________________________________________________\n",
      "dense_28 (Dense)                 (None, 32)            2080        dropout_20[0][0]                 \n",
      "____________________________________________________________________________________________________\n",
      "batchnormalization_13 (BatchNorm (None, 32)            128         dense_28[0][0]                   \n",
      "____________________________________________________________________________________________________\n",
      "activation_20 (Activation)       (None, 32)            0           batchnormalization_13[0][0]      \n",
      "____________________________________________________________________________________________________\n",
      "dropout_21 (Dropout)             (None, 32)            0           activation_20[0][0]              \n",
      "____________________________________________________________________________________________________\n",
      "dense_29 (Dense)                 (None, 2)             66          dropout_21[0][0]                 \n",
      "____________________________________________________________________________________________________\n",
      "activation_21 (Activation)       (None, 2)             0           dense_29[0][0]                   \n",
      "====================================================================================================\n",
      "Total params: 3,809,954\n",
      "Trainable params: 3,809,762\n",
      "Non-trainable params: 192\n",
      "____________________________________________________________________________________________________\n"
     ]
    }
   ],
   "source": [
    "model.summary()"
   ]
  },
  {
   "cell_type": "code",
   "execution_count": null,
   "metadata": {},
   "outputs": [],
   "source": []
  }
 ],
 "metadata": {
  "kernelspec": {
   "display_name": "Python 3",
   "language": "python",
   "name": "python3"
  },
  "language_info": {
   "codemirror_mode": {
    "name": "ipython",
    "version": 3
   },
   "file_extension": ".py",
   "mimetype": "text/x-python",
   "name": "python",
   "nbconvert_exporter": "python",
   "pygments_lexer": "ipython3",
   "version": "3.7.1"
  }
 },
 "nbformat": 4,
 "nbformat_minor": 2
}
